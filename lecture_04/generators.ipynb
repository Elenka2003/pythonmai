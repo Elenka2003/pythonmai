{
 "cells": [
  {
   "cell_type": "code",
   "execution_count": 4,
   "id": "7503f00e",
   "metadata": {},
   "outputs": [
    {
     "name": "stdout",
     "output_type": "stream",
     "text": [
      "[(0, 'MAI'), (1, 'Lambda'), (2, 'Python')]\n",
      "[(0, 'H'), (1, 'e'), (2, 'l'), (3, 'l'), (4, 'o'), (5, ' '), (6, 'M'), (7, 'A'), (8, 'I'), (9, '!')]\n"
     ]
    }
   ],
   "source": [
    "# Работа с генераторами\n",
    "# Задача №1\n",
    "\n",
    "def own_enumerate(arr):\n",
    "    m = 0\n",
    "    for i in arr:\n",
    "        n = (m, i)\n",
    "        yield n\n",
    "        m += 1\n",
    "        pass\n",
    "\n",
    "print(list(own_enumerate(['MAI', 'Lambda', 'Python'])))\n",
    "print(list(own_enumerate('Hello MAI!')))"
   ]
  },
  {
   "cell_type": "code",
   "execution_count": 3,
   "id": "37e10101",
   "metadata": {},
   "outputs": [
    {
     "name": "stdout",
     "output_type": "stream",
     "text": [
      "[('M', 'L'), ('A', 'a'), ('I', 'm')]\n",
      "[('H', 5), ('e', 1), ('l', 0), ('l', 5)]\n"
     ]
    }
   ],
   "source": [
    "# Задача №2\n",
    "\n",
    "def own_zip(a, b):\n",
    "    if len(a) > len(b):\n",
    "        length = len(b)\n",
    "    else:\n",
    "        length = len(a)\n",
    "    for i in range (0, length):\n",
    "        c = (a[i], b[i])\n",
    "        yield c\n",
    "        pass\n",
    "\n",
    "print(list(own_zip('MAI', 'Lambda')))\n",
    "print(list(own_zip('Hello', [5, 1, 0, 5])))"
   ]
  },
  {
   "cell_type": "code",
   "execution_count": null,
   "id": "b2aaa78a",
   "metadata": {},
   "outputs": [],
   "source": []
  }
 ],
 "metadata": {
  "kernelspec": {
   "display_name": "Python 3",
   "language": "python",
   "name": "python3"
  },
  "language_info": {
   "codemirror_mode": {
    "name": "ipython",
    "version": 3
   },
   "file_extension": ".py",
   "mimetype": "text/x-python",
   "name": "python",
   "nbconvert_exporter": "python",
   "pygments_lexer": "ipython3",
   "version": "3.8.8"
  }
 },
 "nbformat": 4,
 "nbformat_minor": 5
}
