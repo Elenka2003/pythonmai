{
 "cells": [
  {
   "cell_type": "markdown",
   "id": "49944faf",
   "metadata": {},
   "source": [
    "# Самостоятельное задание #6\n",
    "\n",
    "\n",
    "### Задание 1\n",
    "\n",
    "\n",
    "Допишите функцию, которая принимает несколько параметров. Первый параметр - словарь, второй параметр - один из ключей данного словаря. Функция должна выводить значение этого ключа."
   ]
  },
  {
   "cell_type": "code",
   "execution_count": null,
   "id": "3f41a526",
   "metadata": {},
   "outputs": [],
   "source": [
    "def dictionary_and_key (dir, key):\n",
    "    print(dir.get(key))\n",
    "\n",
    "\n",
    "dir = {\n",
    "    'Volleyball': 1,\n",
    "    'Swimming': 82,\n",
    "    'Basketball': 55,\n",
    "    'Football': 0.5,\n",
    "    'Tennis': 9,\n",
    "    'Gymnastics': 7,\n",
    "}\n",
    "\n",
    "key = str(input())\n",
    "dictionary_and_key (dir, key)"
   ]
  },
  {
   "cell_type": "code",
   "execution_count": null,
   "id": "ae489fc4",
   "metadata": {},
   "outputs": [],
   "source": []
  }
 ],
 "metadata": {
  "kernelspec": {
   "display_name": "Python 3",
   "language": "python",
   "name": "python3"
  },
  "language_info": {
   "codemirror_mode": {
    "name": "ipython",
    "version": 3
   },
   "file_extension": ".py",
   "mimetype": "text/x-python",
   "name": "python",
   "nbconvert_exporter": "python",
   "pygments_lexer": "ipython3",
   "version": "3.8.8"
  }
 },
 "nbformat": 4,
 "nbformat_minor": 5
}
