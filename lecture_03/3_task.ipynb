{
 "cells": [
  {
   "cell_type": "markdown",
   "id": "657be689",
   "metadata": {},
   "source": [
    "# Самостоятельное задание #3\n",
    "\n",
    "\n",
    "### Задание 1\n",
    "\n",
    "Допишите функцию, которая принимает массив из 10 чисел и возвращает их сумму."
   ]
  },
  {
   "cell_type": "code",
   "execution_count": 24,
   "id": "18ffcbab",
   "metadata": {},
   "outputs": [],
   "source": [
    "def sum_of_ten_numbers(arr: list) -> float:\n",
    "    if len(arr) > 10:\n",
    "        print ('Length of array > 10!')\n",
    "        return\n",
    "    sum = 0\n",
    "    for i in arr:\n",
    "        sum += i\n",
    "        return sum"
   ]
  },
  {
   "cell_type": "markdown",
   "id": "eb78afc0",
   "metadata": {},
   "source": [
    "\n",
    "### Задание 2\n",
    "\n",
    "Допишите функцию, которая принимает массив чисел и возвращает количество чисел равных нулю."
   ]
  },
  {
   "cell_type": "code",
   "execution_count": 23,
   "id": "7e8fe536",
   "metadata": {},
   "outputs": [],
   "source": [
    "def number_of_zeros (arr: list) -> int:\n",
    "    num = 0\n",
    "    for i in arr:\n",
    "        if i == 0:\n",
    "            num += 1\n",
    "    return num"
   ]
  },
  {
   "cell_type": "markdown",
   "id": "570d5a26",
   "metadata": {},
   "source": [
    "\n",
    "### Задание 3\n",
    "\n",
    "Напишите программу, в которой задается  натуральное число n и выводится лестница из n ступенек, i-я ступенька должна состоять из чисел от 1 до i без пробелов."
   ]
  },
  {
   "cell_type": "code",
   "execution_count": 26,
   "id": "69fd0501",
   "metadata": {},
   "outputs": [],
   "source": [
    "def ladder (n: int) -> None:\n",
    "    for i in range (1, n + 1):\n",
    "        for m in range (1, i + 1):\n",
    "            print (m, end='')\n",
    "        else:\n",
    "            print ('')"
   ]
  },
  {
   "cell_type": "markdown",
   "id": "b6ef1c44",
   "metadata": {},
   "source": [
    "\n",
    "### Задание 4\n",
    "\n",
    "Напишите программу, в которой задается натуральное число n и выводится пирамида из n ступенек, i-я ступень должна состоять из чисел от 1 до i и обратно без пробелов."
   ]
  },
  {
   "cell_type": "code",
   "execution_count": 3,
   "id": "6b038f87",
   "metadata": {},
   "outputs": [
    {
     "name": "stdout",
     "output_type": "stream",
     "text": [
      "    1\n",
      "   121\n",
      "  12321\n",
      " 1234321\n",
      "123454321\n"
     ]
    }
   ],
   "source": [
    "for i in range(1, n+1):\n",
    "    print (' ' * (n-i), end = '')\n",
    "    for j in range(1, i+1):\n",
    "        print (j, end = '')\n",
    "    for j in range (i-1, 0, -1):\n",
    "        print (j, end = '')\n",
    "    print ()"
   ]
  },
  {
   "cell_type": "markdown",
   "id": "b4552ef5",
   "metadata": {},
   "source": [
    "\n",
    "### Задание 5\n",
    "\n",
    "Напишите программу, в которой задается натуральное число n и выводится ромб из `n*2-1` ступенек, i-я ступень должна состоять из чисел от 1 до i и обратно без пробелов."
   ]
  },
  {
   "cell_type": "code",
   "execution_count": 4,
   "id": "5eaae897",
   "metadata": {},
   "outputs": [
    {
     "name": "stdout",
     "output_type": "stream",
     "text": [
      "    1\n",
      "   121\n",
      "  12321\n",
      " 1234321\n",
      "123454321\n",
      " 1234321\n",
      "  12321\n",
      "   121\n",
      "    1\n"
     ]
    }
   ],
   "source": [
    "for i in range(1, n+1):\n",
    "    print (' ' * (n-i), end = '')\n",
    "    for j in range(1, i+1):\n",
    "        print (j, end = '')\n",
    "    for j in range (i-1, 0, -1):\n",
    "        print (j, end = '')\n",
    "    print ()\n",
    "    \n",
    "for i in range(n-1, 0, -1):\n",
    "    print (' ' * (n-i), end = '')\n",
    "    for j in range(1, i+1):\n",
    "        print (j, end = '')\n",
    "    for j in range (i-1, 0, -1):\n",
    "        print (j, end = '')\n",
    "    print ()"
   ]
  }
 ],
 "metadata": {
  "kernelspec": {
   "display_name": "Python 3",
   "language": "python",
   "name": "python3"
  },
  "language_info": {
   "codemirror_mode": {
    "name": "ipython",
    "version": 3
   },
   "file_extension": ".py",
   "mimetype": "text/x-python",
   "name": "python",
   "nbconvert_exporter": "python",
   "pygments_lexer": "ipython3",
   "version": "3.8.8"
  }
 },
 "nbformat": 4,
 "nbformat_minor": 5
}
