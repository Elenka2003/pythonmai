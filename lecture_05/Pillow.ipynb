{
 "cells": [
  {
   "cell_type": "code",
   "execution_count": 13,
   "id": "d43415a8",
   "metadata": {},
   "outputs": [],
   "source": [
    "from PIL import Image, ImageFilter, ImageDraw\n",
    "\n",
    "\n",
    "im = Image.open('flowers.jpg')\n",
    "(width, height) = im.size\n",
    "pixels = im.load()\n",
    "\n",
    "invert_im = Image.new(im.mode, im.size)\n",
    "drawer = ImageDraw.Draw(invert_im)\n",
    "\n",
    "for x in range(0, width):\n",
    "    for y in range(0, height):\n",
    "        (r, g, b) = pixels[x, y]\n",
    "        drawer.point((x, y), (255-r, 255-g, 255-b))\n",
    "\n",
    "        \n",
    "blur_im = invert_im.filter(ImageFilter.BoxBlur(10))\n",
    "\n",
    "blur_im.show()\n",
    "\n",
    "blur_im.save('flowers_blur_invert.jpg')\n"
   ]
  }
 ],
 "metadata": {
  "kernelspec": {
   "display_name": "Python 3",
   "language": "python",
   "name": "python3"
  },
  "language_info": {
   "codemirror_mode": {
    "name": "ipython",
    "version": 3
   },
   "file_extension": ".py",
   "mimetype": "text/x-python",
   "name": "python",
   "nbconvert_exporter": "python",
   "pygments_lexer": "ipython3",
   "version": "3.8.8"
  }
 },
 "nbformat": 4,
 "nbformat_minor": 5
}
