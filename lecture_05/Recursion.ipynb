{
 "cells": [
  {
   "cell_type": "code",
   "execution_count": 9,
   "id": "05ebcc6a",
   "metadata": {},
   "outputs": [
    {
     "name": "stdout",
     "output_type": "stream",
     "text": [
      "1\n",
      "3\n",
      "5\n",
      "111\n",
      "0\n",
      "25\n"
     ]
    }
   ],
   "source": [
    "def recursive_print_list( l: list, m: int = 0 ):\n",
    "    if m == (len (l)):\n",
    "        return\n",
    "    print(l [m])\n",
    "    recursive_print_list(l, m + 1)\n",
    "    pass\n",
    "\n",
    "\n",
    "l = [1, 3, 5, 111, 0, 25]\n",
    "recursive_print_list(l)\n"
   ]
  }
 ],
 "metadata": {
  "kernelspec": {
   "display_name": "Python 3",
   "language": "python",
   "name": "python3"
  },
  "language_info": {
   "codemirror_mode": {
    "name": "ipython",
    "version": 3
   },
   "file_extension": ".py",
   "mimetype": "text/x-python",
   "name": "python",
   "nbconvert_exporter": "python",
   "pygments_lexer": "ipython3",
   "version": "3.8.8"
  }
 },
 "nbformat": 4,
 "nbformat_minor": 5
}
